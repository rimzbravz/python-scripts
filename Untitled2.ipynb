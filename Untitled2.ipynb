{
 "cells": [
  {
   "cell_type": "code",
   "execution_count": 5,
   "metadata": {
    "collapsed": false
   },
   "outputs": [
    {
     "name": "stdout",
     "output_type": "stream",
     "text": [
      "2322222345567685 [2, 3, 2, 2, 2, 2, 2, 3, 4, 5, 5, 6, 7, 6, 8, 5] 64\n"
     ]
    },
    {
     "data": {
      "text/plain": [
       "64"
      ]
     },
     "execution_count": 5,
     "metadata": {},
     "output_type": "execute_result"
    }
   ],
   "source": [
    "x_list = []\n",
    "\n",
    "def digit_sum(x):\n",
    "    #treat x as a list\n",
    "    x_string = str(x)\n",
    "  \n",
    "    for i, char in enumerate(x_string):\n",
    "        x_list.append(int(char))\n",
    "    \n",
    "    print( x , x_list , sum(x_list) )\n",
    "    print \n",
    "    return sum(x_list)\n",
    "\n",
    "digit_sum(2322222345567685)"
   ]
  },
  {
   "cell_type": "code",
   "execution_count": 1,
   "metadata": {
    "collapsed": false
   },
   "outputs": [
    {
     "data": {
      "text/plain": [
       "range(2, 10)"
      ]
     },
     "execution_count": 1,
     "metadata": {},
     "output_type": "execute_result"
    }
   ],
   "source": [
    "range(2,10)\n"
   ]
  },
  {
   "cell_type": "code",
   "execution_count": 2,
   "metadata": {
    "collapsed": false
   },
   "outputs": [
    {
     "ename": "SyntaxError",
     "evalue": "invalid syntax (<ipython-input-2-d03a25b7ecab>, line 1)",
     "output_type": "error",
     "traceback": [
      "\u001b[1;36m  File \u001b[1;32m\"<ipython-input-2-d03a25b7ecab>\"\u001b[1;36m, line \u001b[1;32m1\u001b[0m\n\u001b[1;33m    6%%2\u001b[0m\n\u001b[1;37m      ^\u001b[0m\n\u001b[1;31mSyntaxError\u001b[0m\u001b[1;31m:\u001b[0m invalid syntax\n"
     ]
    }
   ],
   "source": [
    "6%%2"
   ]
  },
  {
   "cell_type": "code",
   "execution_count": 3,
   "metadata": {
    "collapsed": false
   },
   "outputs": [
    {
     "data": {
      "text/plain": [
       "0"
      ]
     },
     "execution_count": 3,
     "metadata": {},
     "output_type": "execute_result"
    }
   ],
   "source": [
    "6%2"
   ]
  },
  {
   "cell_type": "code",
   "execution_count": 4,
   "metadata": {
    "collapsed": false
   },
   "outputs": [
    {
     "data": {
      "text/plain": [
       "False"
      ]
     },
     "execution_count": 4,
     "metadata": {},
     "output_type": "execute_result"
    }
   ],
   "source": [
    "def is_prime(x):\n",
    "    \n",
    "    if x == 0 or x ==1:\n",
    "        return False\n",
    "    else:\n",
    "        for n in range(2,x):\n",
    "            while n%2 != 0:\n",
    "                return True\n",
    "                break\n",
    "            else:\n",
    "                return False\n",
    "        \n",
    "    \n",
    "is_prime(7)"
   ]
  },
  {
   "cell_type": "code",
   "execution_count": 13,
   "metadata": {
    "collapsed": false
   },
   "outputs": [
    {
     "name": "stdout",
     "output_type": "stream",
     "text": [
      "1\n"
     ]
    }
   ],
   "source": [
    "for n in range(2,3):\n",
    "        print (3%n)"
   ]
  },
  {
   "cell_type": "code",
   "execution_count": 14,
   "metadata": {
    "collapsed": false
   },
   "outputs": [
    {
     "data": {
      "text/plain": [
       "0"
      ]
     },
     "execution_count": 14,
     "metadata": {},
     "output_type": "execute_result"
    }
   ],
   "source": [
    "0%1"
   ]
  },
  {
   "cell_type": "code",
   "execution_count": 18,
   "metadata": {
    "collapsed": false
   },
   "outputs": [
    {
     "data": {
      "text/plain": [
       "2"
      ]
     },
     "execution_count": 18,
     "metadata": {},
     "output_type": "execute_result"
    }
   ],
   "source": [
    "\n",
    "def is_prime(x):\n",
    "    #Using fermat's Little theorem\n",
    "    ctr = 0\n",
    "    \n",
    "    if x <= 1:\n",
    "        return False\n",
    "        \n",
    "    elif x == 2:\n",
    "        return True\n",
    "    else:\n",
    "        \n",
    "        for a in range(2, x):\n",
    "            if (a**(x-1))%x == 1:\n",
    "                print(\"It is prime!\")\n",
    "                return True\n",
    "            else:\n",
    "                ctr += 1\n",
    "                return False\n",
    "        \n",
    "\n",
    "        \n",
    "is_prime(4)\n"
   ]
  },
  {
   "cell_type": "code",
   "execution_count": 5,
   "metadata": {
    "collapsed": false
   },
   "outputs": [
    {
     "ename": "SyntaxError",
     "evalue": "invalid syntax (<ipython-input-5-89baef82a924>, line 11)",
     "output_type": "error",
     "traceback": [
      "\u001b[1;36m  File \u001b[1;32m\"<ipython-input-5-89baef82a924>\"\u001b[1;36m, line \u001b[1;32m11\u001b[0m\n\u001b[1;33m    reverse(t)\u001b[0m\n\u001b[1;37m          ^\u001b[0m\n\u001b[1;31mSyntaxError\u001b[0m\u001b[1;31m:\u001b[0m invalid syntax\n"
     ]
    }
   ],
   "source": [
    "rev = []\n",
    "\n",
    "\n",
    "def reverse(t):     \n",
    "    for i in range(len(t),0, -1):\n",
    "        rev.append(t[i])\n",
    "    print (rev)\n",
    "    \n",
    "t = str(raw_input(\"Enter a string:\")\n",
    "\n",
    "reverse(t)"
   ]
  },
  {
   "cell_type": "code",
   "execution_count": null,
   "metadata": {
    "collapsed": true
   },
   "outputs": [],
   "source": []
  }
 ],
 "metadata": {
  "kernelspec": {
   "display_name": "Python 3",
   "language": "python",
   "name": "python3"
  },
  "language_info": {
   "codemirror_mode": {
    "name": "ipython",
    "version": 3
   },
   "file_extension": ".py",
   "mimetype": "text/x-python",
   "name": "python",
   "nbconvert_exporter": "python",
   "pygments_lexer": "ipython3",
   "version": "3.5.1"
  }
 },
 "nbformat": 4,
 "nbformat_minor": 0
}
