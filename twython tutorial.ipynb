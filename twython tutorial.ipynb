{
 "cells": [
  {
   "cell_type": "code",
   "execution_count": 6,
   "metadata": {
    "collapsed": false
   },
   "outputs": [
    {
     "ename": "TwythonError",
     "evalue": "Twitter API returned a 404 (Not Found), No user matches for specified terms.",
     "output_type": "error",
     "traceback": [
      "\u001b[1;31m---------------------------------------------------------------------------\u001b[0m",
      "\u001b[1;31mTwythonError\u001b[0m                              Traceback (most recent call last)",
      "\u001b[1;32m<ipython-input-6-1dfb6657561a>\u001b[0m in \u001b[0;36m<module>\u001b[1;34m()\u001b[0m\n\u001b[0;32m     23\u001b[0m \u001b[1;31m#ACCESS THE LOOKUP_USER METHOD OF THE TWITTER API -- GRAB INFO ON UP TO 100 IDS WITH EACH API CALL\u001b[0m\u001b[1;33m\u001b[0m\u001b[1;33m\u001b[0m\u001b[0m\n\u001b[0;32m     24\u001b[0m \u001b[1;31m#THE VARIABLE USERS IS A JSON FILE WITH DATA ON THE 32 TWITTER USERS LISTED ABOVE\u001b[0m\u001b[1;33m\u001b[0m\u001b[1;33m\u001b[0m\u001b[0m\n\u001b[1;32m---> 25\u001b[1;33m \u001b[0musers\u001b[0m \u001b[1;33m=\u001b[0m \u001b[0mt\u001b[0m\u001b[1;33m.\u001b[0m\u001b[0mlookup_user\u001b[0m\u001b[1;33m(\u001b[0m\u001b[0muser_id\u001b[0m \u001b[1;33m=\u001b[0m \u001b[0mids\u001b[0m\u001b[1;33m)\u001b[0m\u001b[1;33m\u001b[0m\u001b[0m\n\u001b[0m\u001b[0;32m     26\u001b[0m \u001b[1;33m\u001b[0m\u001b[0m\n\u001b[0;32m     27\u001b[0m \u001b[1;31m#NAME OUR OUTPUT FILE - %i WILL BE REPLACED BY CURRENT MONTH, DAY, AND YEAR\u001b[0m\u001b[1;33m\u001b[0m\u001b[1;33m\u001b[0m\u001b[0m\n",
      "\u001b[1;32mC:\\Users\\cbravor\\AppData\\Local\\Continuum\\Anaconda3\\lib\\site-packages\\twython\\endpoints.py\u001b[0m in \u001b[0;36mlookup_user\u001b[1;34m(self, **params)\u001b[0m\n\u001b[0;32m    459\u001b[0m \u001b[1;33m\u001b[0m\u001b[0m\n\u001b[0;32m    460\u001b[0m         \"\"\"\n\u001b[1;32m--> 461\u001b[1;33m         \u001b[1;32mreturn\u001b[0m \u001b[0mself\u001b[0m\u001b[1;33m.\u001b[0m\u001b[0mget\u001b[0m\u001b[1;33m(\u001b[0m\u001b[1;34m'users/lookup'\u001b[0m\u001b[1;33m,\u001b[0m \u001b[0mparams\u001b[0m\u001b[1;33m=\u001b[0m\u001b[0mparams\u001b[0m\u001b[1;33m)\u001b[0m\u001b[1;33m\u001b[0m\u001b[0m\n\u001b[0m\u001b[0;32m    462\u001b[0m \u001b[1;33m\u001b[0m\u001b[0m\n\u001b[0;32m    463\u001b[0m     \u001b[1;32mdef\u001b[0m \u001b[0mshow_user\u001b[0m\u001b[1;33m(\u001b[0m\u001b[0mself\u001b[0m\u001b[1;33m,\u001b[0m \u001b[1;33m**\u001b[0m\u001b[0mparams\u001b[0m\u001b[1;33m)\u001b[0m\u001b[1;33m:\u001b[0m\u001b[1;33m\u001b[0m\u001b[0m\n",
      "\u001b[1;32mC:\\Users\\cbravor\\AppData\\Local\\Continuum\\Anaconda3\\lib\\site-packages\\twython\\api.py\u001b[0m in \u001b[0;36mget\u001b[1;34m(self, endpoint, params, version)\u001b[0m\n\u001b[0;32m    263\u001b[0m     \u001b[1;32mdef\u001b[0m \u001b[0mget\u001b[0m\u001b[1;33m(\u001b[0m\u001b[0mself\u001b[0m\u001b[1;33m,\u001b[0m \u001b[0mendpoint\u001b[0m\u001b[1;33m,\u001b[0m \u001b[0mparams\u001b[0m\u001b[1;33m=\u001b[0m\u001b[1;32mNone\u001b[0m\u001b[1;33m,\u001b[0m \u001b[0mversion\u001b[0m\u001b[1;33m=\u001b[0m\u001b[1;34m'1.1'\u001b[0m\u001b[1;33m)\u001b[0m\u001b[1;33m:\u001b[0m\u001b[1;33m\u001b[0m\u001b[0m\n\u001b[0;32m    264\u001b[0m         \u001b[1;34m\"\"\"Shortcut for GET requests via :class:`request`\"\"\"\u001b[0m\u001b[1;33m\u001b[0m\u001b[0m\n\u001b[1;32m--> 265\u001b[1;33m         \u001b[1;32mreturn\u001b[0m \u001b[0mself\u001b[0m\u001b[1;33m.\u001b[0m\u001b[0mrequest\u001b[0m\u001b[1;33m(\u001b[0m\u001b[0mendpoint\u001b[0m\u001b[1;33m,\u001b[0m \u001b[0mparams\u001b[0m\u001b[1;33m=\u001b[0m\u001b[0mparams\u001b[0m\u001b[1;33m,\u001b[0m \u001b[0mversion\u001b[0m\u001b[1;33m=\u001b[0m\u001b[0mversion\u001b[0m\u001b[1;33m)\u001b[0m\u001b[1;33m\u001b[0m\u001b[0m\n\u001b[0m\u001b[0;32m    266\u001b[0m \u001b[1;33m\u001b[0m\u001b[0m\n\u001b[0;32m    267\u001b[0m     \u001b[1;32mdef\u001b[0m \u001b[0mpost\u001b[0m\u001b[1;33m(\u001b[0m\u001b[0mself\u001b[0m\u001b[1;33m,\u001b[0m \u001b[0mendpoint\u001b[0m\u001b[1;33m,\u001b[0m \u001b[0mparams\u001b[0m\u001b[1;33m=\u001b[0m\u001b[1;32mNone\u001b[0m\u001b[1;33m,\u001b[0m \u001b[0mversion\u001b[0m\u001b[1;33m=\u001b[0m\u001b[1;34m'1.1'\u001b[0m\u001b[1;33m)\u001b[0m\u001b[1;33m:\u001b[0m\u001b[1;33m\u001b[0m\u001b[0m\n",
      "\u001b[1;32mC:\\Users\\cbravor\\AppData\\Local\\Continuum\\Anaconda3\\lib\\site-packages\\twython\\api.py\u001b[0m in \u001b[0;36mrequest\u001b[1;34m(self, endpoint, method, params, version)\u001b[0m\n\u001b[0;32m    257\u001b[0m \u001b[1;33m\u001b[0m\u001b[0m\n\u001b[0;32m    258\u001b[0m         content = self._request(url, method=method, params=params,\n\u001b[1;32m--> 259\u001b[1;33m                                 api_call=url)\n\u001b[0m\u001b[0;32m    260\u001b[0m \u001b[1;33m\u001b[0m\u001b[0m\n\u001b[0;32m    261\u001b[0m         \u001b[1;32mreturn\u001b[0m \u001b[0mcontent\u001b[0m\u001b[1;33m\u001b[0m\u001b[0m\n",
      "\u001b[1;32mC:\\Users\\cbravor\\AppData\\Local\\Continuum\\Anaconda3\\lib\\site-packages\\twython\\api.py\u001b[0m in \u001b[0;36m_request\u001b[1;34m(self, url, method, params, api_call)\u001b[0m\n\u001b[0;32m    196\u001b[0m                 \u001b[0merror_message\u001b[0m\u001b[1;33m,\u001b[0m\u001b[1;33m\u001b[0m\u001b[0m\n\u001b[0;32m    197\u001b[0m                 \u001b[0merror_code\u001b[0m\u001b[1;33m=\u001b[0m\u001b[0mresponse\u001b[0m\u001b[1;33m.\u001b[0m\u001b[0mstatus_code\u001b[0m\u001b[1;33m,\u001b[0m\u001b[1;33m\u001b[0m\u001b[0m\n\u001b[1;32m--> 198\u001b[1;33m                 retry_after=response.headers.get('X-Rate-Limit-Reset'))\n\u001b[0m\u001b[0;32m    199\u001b[0m \u001b[1;33m\u001b[0m\u001b[0m\n\u001b[0;32m    200\u001b[0m         \u001b[1;32mtry\u001b[0m\u001b[1;33m:\u001b[0m\u001b[1;33m\u001b[0m\u001b[0m\n",
      "\u001b[1;31mTwythonError\u001b[0m: Twitter API returned a 404 (Not Found), No user matches for specified terms."
     ]
    }
   ],
   "source": [
    "import sys\n",
    "import string\n",
    "import simplejson\n",
    "from twython import Twython\n",
    "\n",
    "#WE WILL USE THE VARIABLES DAY, MONTH, AND YEAR FOR OUR OUTPUT FILE NAME\n",
    "import datetime\n",
    "now = datetime.datetime.now()\n",
    "day=int(now.day)\n",
    "month=int(now.month)\n",
    "year=int(now.year)\n",
    "\n",
    "\n",
    "#FOR OAUTH AUTHENTICATION -- NEEDED TO ACCESS THE TWITTER API\n",
    "t = Twython(app_key='d1XtQNVITtOUt8ZJtlesyk65F', #REPLACE 'APP_KEY' WITH YOUR APP KEY, ETC., IN THE NEXT 4 LINES\n",
    "    app_secret='GITW4h5IowMyZ5g8wcOsYvfZ3Hiyc4GYaZlKXVOHIJ4EIU8UKr',\n",
    "    oauth_token='753002126-vDiwNf7fuVEsdm9Vgz3LyiVeUQ6BmqdVcpYvszqh',\n",
    "    oauth_token_secret='nftSa0bCDPL3aqteaN2uz6FZGRVYFciT6coBGczOYsAwV')\n",
    "   \n",
    "#REPLACE WITH YOUR LIST OF TWITTER USER IDS\n",
    "ids = \"triixiie16\"\n",
    "\n",
    "#ACCESS THE LOOKUP_USER METHOD OF THE TWITTER API -- GRAB INFO ON UP TO 100 IDS WITH EACH API CALL\n",
    "#THE VARIABLE USERS IS A JSON FILE WITH DATA ON THE 32 TWITTER USERS LISTED ABOVE\n",
    "users = t.lookup_user(user_id = ids)\n",
    "\n",
    "#NAME OUR OUTPUT FILE - %i WILL BE REPLACED BY CURRENT MONTH, DAY, AND YEAR\n",
    "outfn = \"twitter_user_data_%i.%i.%i.txt\" % (now.month, now.day, now.year)\n",
    "\n",
    "#NAMES FOR HEADER ROW IN OUTPUT FILE\n",
    "fields = \"id screen_name name created_at url followers_count friends_count statuses_count \\\n",
    "    favourites_count listed_count \\\n",
    "    contributors_enabled description protected location lang expanded_url\".split()\n",
    "\n",
    "#INITIALIZE OUTPUT FILE AND WRITE HEADER ROW   \n",
    "outfp = open(outfn, \"w\")\n",
    "outfp.write(string.join(fields, \"\\t\") + \"\\n\")  # header\n",
    "\n",
    "#THE VARIABLE 'USERS' CONTAINS INFORMATION OF THE 32 TWITTER USER IDS LISTED ABOVE\n",
    "#THIS BLOCK WILL LOOP OVER EACH OF THESE IDS, CREATE VARIABLES, AND OUTPUT TO FILE\n",
    "for entry in users:\n",
    "    #CREATE EMPTY DICTIONARY\n",
    "    r = {}\n",
    "    for f in fields:\n",
    "        r[f] = \"\"\n",
    "    #ASSIGN VALUE OF 'ID' FIELD IN JSON TO 'ID' FIELD IN OUR DICTIONARY\n",
    "    r['id'] = entry['id']\n",
    "    #SAME WITH 'SCREEN_NAME' HERE, AND FOR REST OF THE VARIABLES\n",
    "    r['screen_name'] = entry['screen_name']\n",
    "    r['name'] = entry['name']\n",
    "    r['created_at'] = entry['created_at']\n",
    "    r['url'] = entry['url']\n",
    "    r['followers_count'] = entry['followers_count']\n",
    "    r['friends_count'] = entry['friends_count']\n",
    "    r['statuses_count'] = entry['statuses_count']\n",
    "    r['favourites_count'] = entry['favourites_count']\n",
    "    r['listed_count'] = entry['listed_count']\n",
    "    r['contributors_enabled'] = entry['contributors_enabled']\n",
    "    r['description'] = entry['description']\n",
    "    r['protected'] = entry['protected']\n",
    "    r['location'] = entry['location']\n",
    "    r['lang'] = entry['lang']\n",
    "    #NOT EVERY ID WILL HAVE A 'URL' KEY, SO CHECK FOR ITS EXISTENCE WITH IF CLAUSE\n",
    "    if 'url' in entry['entities']:\n",
    "        r['expanded_url'] = entry['entities']['url']['urls'][0]['expanded_url']\n",
    "    else:\n",
    "        r['expanded_url'] = ''\n",
    "    print(r)\n",
    "    #CREATE EMPTY LIST\n",
    "    lst = []\n",
    "    #ADD DATA FOR EACH VARIABLE\n",
    "    for f in fields:\n",
    "        lst.append(unicode(r[f]).replace(\"\\/\", \"/\"))\n",
    "    #WRITE ROW WITH DATA IN LIST\n",
    "    outfp.write(string.join(lst, \"\\t\").encode(\"utf-8\") + \"\\n\")\n",
    "\n",
    "outfp.close()"
   ]
  },
  {
   "cell_type": "code",
   "execution_count": null,
   "metadata": {
    "collapsed": true
   },
   "outputs": [],
   "source": []
  }
 ],
 "metadata": {
  "kernelspec": {
   "display_name": "Python 3",
   "language": "python",
   "name": "python3"
  },
  "language_info": {
   "codemirror_mode": {
    "name": "ipython",
    "version": 3
   },
   "file_extension": ".py",
   "mimetype": "text/x-python",
   "name": "python",
   "nbconvert_exporter": "python",
   "pygments_lexer": "ipython3",
   "version": "3.5.1"
  }
 },
 "nbformat": 4,
 "nbformat_minor": 0
}
