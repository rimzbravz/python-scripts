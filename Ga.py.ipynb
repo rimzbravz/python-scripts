{
 "cells": [
  {
   "cell_type": "code",
   "execution_count": 1,
   "metadata": {
    "collapsed": true
   },
   "outputs": [],
   "source": [
    "import random\n",
    "from math import atan2\n",
    "\n",
    "class GA:\n",
    "    def individual(self, min, max):\n",
    "        return random.uniform(min, max)\n",
    "\n",
    "    def population(self, count, min, max):\n",
    "        return [self.individual(min, max) for x in xrange(count)]\n",
    "\n",
    "    def fitness(self, current_point, target_point, indiv):\n",
    "        diffY = target_point['y'] - current_point['y']\n",
    "        diffX = target_point['x'] - current_point['x']\n",
    "\n",
    "        return abs(atan2(diffY, diffX) - indiv)\n",
    "\n",
    "    def grade(self, current_point, target_point, popul):\n",
    "        return sum([self.fitness(current_point, target_point, indiv) for indiv in popul]) / len(popul)\n",
    "\n",
    "    def evolve(self, min, max, popul, current_point, target_point, retain=0.3, random_select=0.05, mutate=0.05):\n",
    "        graded = [(self.fitness(current_point, target_point, indiv), indiv) for indiv in popul]\n",
    "\n",
    "        # SORT AND GET THE BEST PARENTS\n",
    "        graded = [x[1] for x in sorted(graded)]\n",
    "        retain_length = int(len(graded) * retain)\n",
    "        parents = graded[:retain_length]\n",
    "\n",
    "        # RANDOMLY SELECT ADDITIONAL PARENTS TO DIVERSIFY\n",
    "        for indiv in graded[retain_length:]:\n",
    "            if random_select > random.random():\n",
    "                parents.append(indiv)\n",
    "\n",
    "        # HAVE SEX. CROSSOVER\n",
    "        parents_length = len(parents)\n",
    "        desired_length = len(popul)\n",
    "\n",
    "        children = []\n",
    "\n",
    "        while len(children) < desired_length:\n",
    "            male = random.randint(0, parents_length - 1)\n",
    "            female = random.randint(0, parents_length - 1)\n",
    "\n",
    "            if male != female:\n",
    "                male = parents[male]\n",
    "                female = parents[female]\n",
    "\n",
    "                child = self.individual(male, female)\n",
    "                children.append(child)\n",
    "\n",
    "        # MUTATE CHILDREN\n",
    "        for i, indiv in enumerate(children):\n",
    "            if mutate > random.random():\n",
    "                children[i] = self.individual(min, max)\n",
    "\n",
    "        return children"
   ]
  },
  {
   "cell_type": "code",
   "execution_count": null,
   "metadata": {
    "collapsed": true
   },
   "outputs": [],
   "source": []
  }
 ],
 "metadata": {
  "kernelspec": {
   "display_name": "Python 3",
   "language": "python",
   "name": "python3"
  },
  "language_info": {
   "codemirror_mode": {
    "name": "ipython",
    "version": 3
   },
   "file_extension": ".py",
   "mimetype": "text/x-python",
   "name": "python",
   "nbconvert_exporter": "python",
   "pygments_lexer": "ipython3",
   "version": "3.5.1"
  }
 },
 "nbformat": 4,
 "nbformat_minor": 0
}
